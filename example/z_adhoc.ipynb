{
 "cells": [
  {
   "cell_type": "code",
   "execution_count": 2,
   "metadata": {},
   "outputs": [],
   "source": [
    "import django_init\n",
    "import os, random, time\n",
    "import time\n",
    "os.environ[\"DJANGO_ALLOW_ASYNC_UNSAFE\"] = \"true\"\n",
    "import pandas as pd\n",
    "DF = pd.DataFrame\n",
    "from django.conf import settings\n",
    "from django_pandas.io import read_frame\n",
    "from tqdm import tqdm\n",
    "from main.models import *\n",
    "from django_aux.models import *\n",
    "from django_aux.utils import *\n",
    "from django_aux.columns import *\n",
    "from django_aux_timeperiods.models import *\n",
    "from django_aux_geo.models import *\n",
    "from request.models import Request\n",
    "import calendar\n",
    "from zoneinfo import ZoneInfo"
   ]
  },
  {
   "cell_type": "code",
   "execution_count": 3,
   "metadata": {},
   "outputs": [
    {
     "data": {
      "text/plain": [
       "[<Sale: Dustin Anthony Westberry | 2022-08-08 07:31:39.130340+00:00 | utilities | 5349.18101914549>,\n",
       " <Sale: Jim Harry Ewing | 2021-12-22 16:41:40.875269+00:00 | resturant | 85.2442988455418>,\n",
       " <Sale: Megan Denise Bennett | 2022-04-17 09:01:53.623530+00:00 | entertainment | 3541.15196250641>,\n",
       " <Sale: Kevin Pablo Johnson | 2021-04-22 15:17:26.390675+00:00 | misc | 320.278935630356>,\n",
       " <Sale: Melissa Rhonda Marquez | 2022-05-29 21:28:52.433545+00:00 | utilities | 5464.63501849794>,\n",
       " <Sale: Carlton James Jung | 2021-04-18 10:37:03.851407+00:00 | resturant | 4338.26599714281>,\n",
       " <Sale: Joseph Ronald Barton | 2022-10-26 17:38:52.232553+00:00 | misc | 3079.52949078558>,\n",
       " <Sale: Brittany Kathleen Beuth | 2021-02-28 20:52:08.422947+00:00 | entertainment | 1435.99802018656>,\n",
       " <Sale: Jim Harry Ewing | 2023-07-25 19:01:14.398702+00:00 | utilities | 1609.87490171534>,\n",
       " <Sale: Peggy Nancy Keesling | 2023-06-06 21:52:54.967667+00:00 | groceries | 2879.60740024173>]"
      ]
     },
     "execution_count": 3,
     "metadata": {},
     "output_type": "execute_result"
    }
   ],
   "source": [
    "SaleFactory.create_batch(size=10)"
   ]
  },
  {
   "cell_type": "code",
   "execution_count": 2,
   "metadata": {},
   "outputs": [],
   "source": [
    "qs = Sale.objects.values()\n",
    "create_view_from_qs(qs, view_name='sales', materialized=False, read_only_users=['user_readonly'])\n",
    "create_view_from_qs(qs, view_name='sales_mat', ufields=['id'], read_only_users=['user_readonly'])"
   ]
  },
  {
   "cell_type": "code",
   "execution_count": 6,
   "metadata": {},
   "outputs": [],
   "source": [
    "class FakeRequest:\n",
    "    def __init__(self, GET=None, POST=None, META=None):\n",
    "        self.GET = GET if GET else {}\n",
    "        self.POST = POST if POST else {}\n",
    "        self.META = META if META else {}\n",
    "\n",
    "\n",
    "from django_aux.views import InlineFormsetMixin\n",
    "\n",
    "ifm = InlineFormsetMixin()\n",
    "ifm.request = FakeRequest(GET = {'extra':'2'})\n",
    "\n",
    "assert ifm.get_current_extra() == 2"
   ]
  },
  {
   "cell_type": "code",
   "execution_count": 33,
   "metadata": {},
   "outputs": [
    {
     "name": "stdout",
     "output_type": "stream",
     "text": [
      "0.001998424530029297\n"
     ]
    }
   ],
   "source": [
    "freq = 'Y'\n",
    "#= dt.datetime.now()\n",
    "def get_target_period(n, freq):\n",
    "    now = dt.datetime.now()\n",
    "    if n == 0:\n",
    "        return pd.Period(now, freq=freq)\n",
    "    if n < 0:\n",
    "        pr = pd.period_range(end = now, periods=abs(n)+1, freq=freq)\n",
    "        return pr[0]\n",
    "    else:\n",
    "        pr = pd.period_range(start = now, periods=abs(n)+1, freq=freq)\n",
    "        return pr[-1]\n",
    "\n",
    "\n",
    "    # future = pd.period_range(now, periods=20, freq=freq)\n",
    "    # pr2 = pd.period_range(end = now, periods=20, freq=freq)\n",
    "get_target_period(1, freq='M')\n",
    "\n",
    "\n",
    "t1 = time.time()\n",
    "get_target_period(n=1_000_000, freq='Y')\n",
    "t2 = time.time()\n",
    "\n",
    "print(t2-t1)"
   ]
  },
  {
   "cell_type": "code",
   "execution_count": 3,
   "metadata": {},
   "outputs": [
    {
     "data": {
      "text/plain": [
       "{0: 0, 1: 1, 2: 2, 3: 3, 4: 4, 5: 5, 6: 6, 7: 7, 8: 8, 9: 9}"
      ]
     },
     "execution_count": 3,
     "metadata": {},
     "output_type": "execute_result"
    }
   ],
   "source": [
    "o = {i:i for i in range(10)}\n",
    "print(type(o), o)"
   ]
  },
  {
   "cell_type": "code",
   "execution_count": 6,
   "metadata": {},
   "outputs": [
    {
     "name": "stdout",
     "output_type": "stream",
     "text": [
      "<class 'list'> [0, 1, 2, 3, 4, 5, 6, 7, 8, 9]\n"
     ]
    }
   ],
   "source": [
    "o = [i for i in range(10)]\n",
    "print(type(o), o)"
   ]
  },
  {
   "cell_type": "code",
   "execution_count": 14,
   "metadata": {},
   "outputs": [
    {
     "data": {
      "text/plain": [
       "'county'"
      ]
     },
     "execution_count": 14,
     "metadata": {},
     "output_type": "execute_result"
    }
   ],
   "source": [
    "from bs4 import BeautifulSoup\n",
    "import requests\n",
    "\n",
    "def get_category(alpha2):\n",
    "    html = requests.get(f'https://en.wikipedia.org/wiki/ISO_3166-2:{alpha2}').text\n",
    "    soup = BeautifulSoup(html, 'html.parser')\n",
    "    try:\n",
    "        cat = soup.get_text().split('are defined for')[1].split('.')[0].strip().split(' ')[-1]\n",
    "    except:\n",
    "        return None\n",
    "    rtups = (\n",
    "        ('ies','y'), ('provinces','province'), ('districts','district')\n",
    "    )\n",
    "    for rtup in rtups:\n",
    "        cat = cat.replace(*rtup)\n",
    "    return cat\n",
    "\n",
    "get_category('LR')"
   ]
  },
  {
   "cell_type": "code",
   "execution_count": 37,
   "metadata": {},
   "outputs": [
    {
     "name": "stderr",
     "output_type": "stream",
     "text": [
      "100%|██████████| 249/249 [02:46<00:00,  1.50it/s]\n"
     ]
    }
   ],
   "source": [
    "def get_subdiv_df(country):\n",
    "    alpha2 = country.alpha2\n",
    "    url = f'https://en.wikipedia.org/wiki/ISO_3166-2:{alpha2}'\n",
    "    try:\n",
    "        dfs = pd.read_html(url)\n",
    "    except:\n",
    "        return DF()\n",
    "    tdf = DF()\n",
    "    for ttdf in dfs:\n",
    "        if 'Code' in ttdf.columns: \n",
    "            tdf = ttdf\n",
    "            break \n",
    "    if tdf.empty:\n",
    "        return DF()\n",
    "        \n",
    "    df = tdf.copy().iloc[:,:2]\n",
    "    df.columns = ['code','name']\n",
    "    try:\n",
    "        df['category'] = tdf['Subdivision category']\n",
    "        df['category'] = df.category.str.lower()\n",
    "    except:\n",
    "        pass\n",
    "    if 'category' not in df.columns:\n",
    "        category = get_category(alpha2)\n",
    "        df['category'] = category\n",
    "    df['alpha2'] = country.alpha2\n",
    "    return df\n",
    "        \n",
    "df = DF()\n",
    "country = Country.objects.order_by('?').first()\n",
    "for country in tqdm(Country.objects.order_by('?')):\n",
    "    tdf = get_subdiv_df(country)\n",
    "    if tdf.empty:\n",
    "        continue\n",
    "    df = pd.concat([df, tdf])"
   ]
  },
  {
   "cell_type": "code",
   "execution_count": 36,
   "metadata": {},
   "outputs": [
    {
     "data": {
      "text/html": [
       "<div>\n",
       "<style scoped>\n",
       "    .dataframe tbody tr th:only-of-type {\n",
       "        vertical-align: middle;\n",
       "    }\n",
       "\n",
       "    .dataframe tbody tr th {\n",
       "        vertical-align: top;\n",
       "    }\n",
       "\n",
       "    .dataframe thead th {\n",
       "        text-align: right;\n",
       "    }\n",
       "</style>\n",
       "<table border=\"1\" class=\"dataframe\">\n",
       "  <thead>\n",
       "    <tr style=\"text-align: right;\">\n",
       "      <th></th>\n",
       "      <th>code</th>\n",
       "      <th>name</th>\n",
       "      <th>category</th>\n",
       "    </tr>\n",
       "  </thead>\n",
       "  <tbody>\n",
       "    <tr>\n",
       "      <th>0</th>\n",
       "      <td>SR-BR</td>\n",
       "      <td>Brokopondo</td>\n",
       "      <td>districts</td>\n",
       "    </tr>\n",
       "    <tr>\n",
       "      <th>1</th>\n",
       "      <td>SR-CM</td>\n",
       "      <td>Commewijne</td>\n",
       "      <td>districts</td>\n",
       "    </tr>\n",
       "    <tr>\n",
       "      <th>2</th>\n",
       "      <td>SR-CR</td>\n",
       "      <td>Coronie</td>\n",
       "      <td>districts</td>\n",
       "    </tr>\n",
       "    <tr>\n",
       "      <th>3</th>\n",
       "      <td>SR-MA</td>\n",
       "      <td>Marowijne</td>\n",
       "      <td>districts</td>\n",
       "    </tr>\n",
       "    <tr>\n",
       "      <th>4</th>\n",
       "      <td>SR-NI</td>\n",
       "      <td>Nickerie</td>\n",
       "      <td>districts</td>\n",
       "    </tr>\n",
       "    <tr>\n",
       "      <th>...</th>\n",
       "      <td>...</td>\n",
       "      <td>...</td>\n",
       "      <td>...</td>\n",
       "    </tr>\n",
       "    <tr>\n",
       "      <th>2</th>\n",
       "      <td>ST-03</td>\n",
       "      <td>Caué</td>\n",
       "      <td>district</td>\n",
       "    </tr>\n",
       "    <tr>\n",
       "      <th>3</th>\n",
       "      <td>ST-04</td>\n",
       "      <td>Lembá</td>\n",
       "      <td>district</td>\n",
       "    </tr>\n",
       "    <tr>\n",
       "      <th>4</th>\n",
       "      <td>ST-05</td>\n",
       "      <td>Lobata</td>\n",
       "      <td>district</td>\n",
       "    </tr>\n",
       "    <tr>\n",
       "      <th>5</th>\n",
       "      <td>ST-06</td>\n",
       "      <td>Mé-Zóchi</td>\n",
       "      <td>district</td>\n",
       "    </tr>\n",
       "    <tr>\n",
       "      <th>6</th>\n",
       "      <td>ST-P</td>\n",
       "      <td>Príncipe</td>\n",
       "      <td>autonomous region</td>\n",
       "    </tr>\n",
       "  </tbody>\n",
       "</table>\n",
       "<p>3429 rows × 3 columns</p>\n",
       "</div>"
      ],
      "text/plain": [
       "     code        name           category\n",
       "0   SR-BR  Brokopondo          districts\n",
       "1   SR-CM  Commewijne          districts\n",
       "2   SR-CR     Coronie          districts\n",
       "3   SR-MA   Marowijne          districts\n",
       "4   SR-NI    Nickerie          districts\n",
       "..    ...         ...                ...\n",
       "2   ST-03        Caué           district\n",
       "3   ST-04       Lembá           district\n",
       "4   ST-05      Lobata           district\n",
       "5   ST-06    Mé-Zóchi           district\n",
       "6    ST-P    Príncipe  autonomous region\n",
       "\n",
       "[3429 rows x 3 columns]"
      ]
     },
     "execution_count": 36,
     "metadata": {},
     "output_type": "execute_result"
    }
   ],
   "source": [
    "df"
   ]
  },
  {
   "cell_type": "code",
   "execution_count": 17,
   "metadata": {},
   "outputs": [
    {
     "name": "stderr",
     "output_type": "stream",
     "text": [
      "100%|██████████| 248/248 [01:43<00:00,  2.39it/s]\n"
     ]
    }
   ],
   "source": [
    "cats = []\n",
    "for country in tqdm(Country.objects.exclude(alpha2=None)):\n",
    "    cat = get_category(country.alpha2)\n",
    "    if cat not in cats:\n",
    "        cats.append(cat)\n"
   ]
  },
  {
   "cell_type": "code",
   "execution_count": 18,
   "metadata": {},
   "outputs": [
    {
     "data": {
      "text/plain": [
       "['province',\n",
       " None,\n",
       " 'county',\n",
       " 'parishes',\n",
       " 'dependency',\n",
       " 'regions',\n",
       " 'territory',\n",
       " 'states',\n",
       " '(i',\n",
       " 'districts',\n",
       " 'governorates',\n",
       " 'hyphen',\n",
       " 'city',\n",
       " 'departments',\n",
       " 'municipality',\n",
       " 'status',\n",
       " 'district',\n",
       " 'prefectures',\n",
       " '(mintaqah[1])',\n",
       " '(PRC)',\n",
       " 'islands',\n",
       " 'Eswatini',\n",
       " 'Åland)',\n",
       " 'divisions',\n",
       " 'units',\n",
       " 'rights',\n",
       " 'region',\n",
       " 'Ireland',\n",
       " 'islands)',\n",
       " 'popularates',\n",
       " 'communes',\n",
       " 'cantons',\n",
       " 'atolls',\n",
       " 'councils',\n",
       " 'capital',\n",
       " 'unit',\n",
       " 'quarters',\n",
       " 'Netherlands',\n",
       " 'areas',\n",
       " 'voivodeships',\n",
       " 'entity',\n",
       " 'administration',\n",
       " 'ward',\n",
       " 'Kampala)',\n",
       " '2014',\n",
       " 'emirates',\n",
       " 'islands\"',\n",
       " 'republic',\n",
       " 'precincts']"
      ]
     },
     "execution_count": 18,
     "metadata": {},
     "output_type": "execute_result"
    }
   ],
   "source": [
    "cats"
   ]
  },
  {
   "cell_type": "code",
   "execution_count": 32,
   "metadata": {},
   "outputs": [
    {
     "data": {
      "text/html": [
       "<div>\n",
       "<style scoped>\n",
       "    .dataframe tbody tr th:only-of-type {\n",
       "        vertical-align: middle;\n",
       "    }\n",
       "\n",
       "    .dataframe tbody tr th {\n",
       "        vertical-align: top;\n",
       "    }\n",
       "\n",
       "    .dataframe thead th {\n",
       "        text-align: right;\n",
       "    }\n",
       "</style>\n",
       "<table border=\"1\" class=\"dataframe\">\n",
       "  <thead>\n",
       "    <tr style=\"text-align: right;\">\n",
       "      <th></th>\n",
       "      <th>code</th>\n",
       "      <th>_</th>\n",
       "      <th>name</th>\n",
       "      <th>_</th>\n",
       "      <th>category</th>\n",
       "    </tr>\n",
       "  </thead>\n",
       "  <tbody>\n",
       "    <tr>\n",
       "      <th>0</th>\n",
       "      <td>AM-ER</td>\n",
       "      <td>Erevan</td>\n",
       "      <td>Yerevan</td>\n",
       "      <td>Երևան</td>\n",
       "      <td>city</td>\n",
       "    </tr>\n",
       "    <tr>\n",
       "      <th>1</th>\n",
       "      <td>AM-AG</td>\n",
       "      <td>Aragac̣otn</td>\n",
       "      <td>Aragatsotn</td>\n",
       "      <td>Արագածոտն</td>\n",
       "      <td>region</td>\n",
       "    </tr>\n",
       "    <tr>\n",
       "      <th>2</th>\n",
       "      <td>AM-AR</td>\n",
       "      <td>Ararat</td>\n",
       "      <td>Ararat</td>\n",
       "      <td>Արարատ</td>\n",
       "      <td>region</td>\n",
       "    </tr>\n",
       "    <tr>\n",
       "      <th>3</th>\n",
       "      <td>AM-AV</td>\n",
       "      <td>Armavir</td>\n",
       "      <td>Armavir</td>\n",
       "      <td>Արմավիր</td>\n",
       "      <td>region</td>\n",
       "    </tr>\n",
       "    <tr>\n",
       "      <th>4</th>\n",
       "      <td>AM-GR</td>\n",
       "      <td>Geġark'unik'</td>\n",
       "      <td>Gegharkunik</td>\n",
       "      <td>Գեղարքունիք</td>\n",
       "      <td>region</td>\n",
       "    </tr>\n",
       "    <tr>\n",
       "      <th>5</th>\n",
       "      <td>AM-KT</td>\n",
       "      <td>Kotayk'</td>\n",
       "      <td>Kotayk</td>\n",
       "      <td>Կոտայք</td>\n",
       "      <td>region</td>\n",
       "    </tr>\n",
       "    <tr>\n",
       "      <th>6</th>\n",
       "      <td>AM-LO</td>\n",
       "      <td>Loṙi</td>\n",
       "      <td>Lori</td>\n",
       "      <td>Լոռի</td>\n",
       "      <td>region</td>\n",
       "    </tr>\n",
       "    <tr>\n",
       "      <th>7</th>\n",
       "      <td>AM-SH</td>\n",
       "      <td>Širak</td>\n",
       "      <td>Shirak</td>\n",
       "      <td>Շիրակ</td>\n",
       "      <td>region</td>\n",
       "    </tr>\n",
       "    <tr>\n",
       "      <th>8</th>\n",
       "      <td>AM-SU</td>\n",
       "      <td>Syunik'</td>\n",
       "      <td>Syunik</td>\n",
       "      <td>Սյունիք</td>\n",
       "      <td>region</td>\n",
       "    </tr>\n",
       "    <tr>\n",
       "      <th>9</th>\n",
       "      <td>AM-TV</td>\n",
       "      <td>Tavuš</td>\n",
       "      <td>Tavush</td>\n",
       "      <td>Տավուշ</td>\n",
       "      <td>region</td>\n",
       "    </tr>\n",
       "    <tr>\n",
       "      <th>10</th>\n",
       "      <td>AM-VD</td>\n",
       "      <td>Vayoć Jor</td>\n",
       "      <td>Vayots Dzor</td>\n",
       "      <td>Վայոց Ձոր</td>\n",
       "      <td>region</td>\n",
       "    </tr>\n",
       "  </tbody>\n",
       "</table>\n",
       "</div>"
      ],
      "text/plain": [
       "     code             _         name            _ category\n",
       "0   AM-ER        Erevan      Yerevan        Երևան     city\n",
       "1   AM-AG    Aragac̣otn   Aragatsotn    Արագածոտն   region\n",
       "2   AM-AR        Ararat       Ararat       Արարատ   region\n",
       "3   AM-AV       Armavir      Armavir      Արմավիր   region\n",
       "4   AM-GR  Geġark'unik'  Gegharkunik  Գեղարքունիք   region\n",
       "5   AM-KT       Kotayk'       Kotayk       Կոտայք   region\n",
       "6   AM-LO          Loṙi         Lori         Լոռի   region\n",
       "7   AM-SH         Širak       Shirak        Շիրակ   region\n",
       "8   AM-SU       Syunik'       Syunik      Սյունիք   region\n",
       "9   AM-TV         Tavuš       Tavush       Տավուշ   region\n",
       "10  AM-VD     Vayoć Jor  Vayots Dzor    Վայոց Ձոր   region"
      ]
     },
     "execution_count": 32,
     "metadata": {},
     "output_type": "execute_result"
    }
   ],
   "source": [
    "format = {\n",
    "    'AD': {'col_names':['code', 'name'], 'category':'parish'},\n",
    "    'AE': {'col_names':['code', '_', 'name', '_'], 'category':'emirate'},\n",
    "    'AF': {'col_names':['code', '_', 'name', '_'], 'category':'province'},\n",
    "    'AG': {'col_names':['code', 'name', 'category']},\n",
    "    'AL': {'col_names':['code', 'name'], 'category': 'county'},\n",
    "    'AM': {'col_names':['code', '_' ,'name', '_', 'category']},\n",
    "}\n",
    "d = format[alpha2]\n",
    "df.columns = d['col_names']\n",
    "if d.get('category'):\n",
    "    df['category'] = d.get('category')\n",
    "df"
   ]
  },
  {
   "cell_type": "code",
   "execution_count": 5,
   "metadata": {},
   "outputs": [],
   "source": [
    "Country.create_objs()"
   ]
  },
  {
   "cell_type": "code",
   "execution_count": 6,
   "metadata": {},
   "outputs": [
    {
     "name": "stdout",
     "output_type": "stream",
     "text": [
      "GEO GE\n"
     ]
    },
    {
     "ename": "ValueError",
     "evalue": "Length mismatch: Expected axis has 5 elements, new values have 3 elements",
     "output_type": "error",
     "traceback": [
      "\u001b[1;31m---------------------------------------------------------------------------\u001b[0m",
      "\u001b[1;31mValueError\u001b[0m                                Traceback (most recent call last)",
      "\u001b[1;32mc:\\Users\\jorda\\Documents\\git_projects\\django-aux\\example\\z_adhoc.ipynb Cell 3\u001b[0m in \u001b[0;36m<cell line: 3>\u001b[1;34m()\u001b[0m\n\u001b[0;32m      <a href='vscode-notebook-cell:/c%3A/Users/jorda/Documents/git_projects/django-aux/example/z_adhoc.ipynb#X30sZmlsZQ%3D%3D?line=0'>1</a>\u001b[0m country \u001b[39m=\u001b[39m Country\u001b[39m.\u001b[39mobjects\u001b[39m.\u001b[39morder_by(\u001b[39m'\u001b[39m\u001b[39m?\u001b[39m\u001b[39m'\u001b[39m)\u001b[39m.\u001b[39mfirst()\n\u001b[0;32m      <a href='vscode-notebook-cell:/c%3A/Users/jorda/Documents/git_projects/django-aux/example/z_adhoc.ipynb#X30sZmlsZQ%3D%3D?line=1'>2</a>\u001b[0m \u001b[39mprint\u001b[39m(country, country\u001b[39m.\u001b[39malpha2)\n\u001b[1;32m----> <a href='vscode-notebook-cell:/c%3A/Users/jorda/Documents/git_projects/django-aux/example/z_adhoc.ipynb#X30sZmlsZQ%3D%3D?line=2'>3</a>\u001b[0m SubDivision\u001b[39m.\u001b[39;49mcreate_objs_from_country(country)\n\u001b[0;32m      <a href='vscode-notebook-cell:/c%3A/Users/jorda/Documents/git_projects/django-aux/example/z_adhoc.ipynb#X30sZmlsZQ%3D%3D?line=3'>4</a>\u001b[0m country\u001b[39m.\u001b[39msubdivision_set\u001b[39m.\u001b[39mall()\n",
      "File \u001b[1;32mc:\\Users\\jorda\\Documents\\git_projects\\django-aux\\django_aux_geo\\models.py:54\u001b[0m, in \u001b[0;36mSubDivision.create_objs_from_country\u001b[1;34m(cls, country)\u001b[0m\n\u001b[0;32m     52\u001b[0m         \u001b[39mbreak\u001b[39;00m \n\u001b[0;32m     53\u001b[0m \u001b[39mif\u001b[39;00m df\u001b[39m.\u001b[39mempty: \u001b[39mreturn\u001b[39;00m\n\u001b[1;32m---> 54\u001b[0m df\u001b[39m.\u001b[39mcolumns \u001b[39m=\u001b[39m [\u001b[39m'\u001b[39m\u001b[39mcode\u001b[39m\u001b[39m'\u001b[39m, \u001b[39m'\u001b[39m\u001b[39mname\u001b[39m\u001b[39m'\u001b[39m, \u001b[39m'\u001b[39m\u001b[39mcategory\u001b[39m\u001b[39m'\u001b[39m]\n\u001b[0;32m     55\u001b[0m \u001b[39mfor\u001b[39;00m tup \u001b[39min\u001b[39;00m df\u001b[39m.\u001b[39mitertuples():\n\u001b[0;32m     56\u001b[0m     SubDivision\u001b[39m.\u001b[39mobjects\u001b[39m.\u001b[39mget_or_create(\n\u001b[0;32m     57\u001b[0m         iso_code \u001b[39m=\u001b[39m tup\u001b[39m.\u001b[39mcode,\n\u001b[0;32m     58\u001b[0m         defaults \u001b[39m=\u001b[39m \u001b[39mdict\u001b[39m(\n\u001b[0;32m     59\u001b[0m             name \u001b[39m=\u001b[39m tup\u001b[39m.\u001b[39mname, category \u001b[39m=\u001b[39m tup\u001b[39m.\u001b[39mcategory, country\u001b[39m=\u001b[39mcountry\n\u001b[0;32m     60\u001b[0m         )\n\u001b[0;32m     61\u001b[0m     )\n",
      "File \u001b[1;32mc:\\Users\\jorda\\anaconda3\\envs\\aux\\lib\\site-packages\\pandas\\core\\generic.py:5588\u001b[0m, in \u001b[0;36mNDFrame.__setattr__\u001b[1;34m(self, name, value)\u001b[0m\n\u001b[0;32m   5586\u001b[0m \u001b[39mtry\u001b[39;00m:\n\u001b[0;32m   5587\u001b[0m     \u001b[39mobject\u001b[39m\u001b[39m.\u001b[39m\u001b[39m__getattribute__\u001b[39m(\u001b[39mself\u001b[39m, name)\n\u001b[1;32m-> 5588\u001b[0m     \u001b[39mreturn\u001b[39;00m \u001b[39mobject\u001b[39;49m\u001b[39m.\u001b[39;49m\u001b[39m__setattr__\u001b[39;49m(\u001b[39mself\u001b[39;49m, name, value)\n\u001b[0;32m   5589\u001b[0m \u001b[39mexcept\u001b[39;00m \u001b[39mAttributeError\u001b[39;00m:\n\u001b[0;32m   5590\u001b[0m     \u001b[39mpass\u001b[39;00m\n",
      "File \u001b[1;32mc:\\Users\\jorda\\anaconda3\\envs\\aux\\lib\\site-packages\\pandas\\_libs\\properties.pyx:70\u001b[0m, in \u001b[0;36mpandas._libs.properties.AxisProperty.__set__\u001b[1;34m()\u001b[0m\n",
      "File \u001b[1;32mc:\\Users\\jorda\\anaconda3\\envs\\aux\\lib\\site-packages\\pandas\\core\\generic.py:769\u001b[0m, in \u001b[0;36mNDFrame._set_axis\u001b[1;34m(self, axis, labels)\u001b[0m\n\u001b[0;32m    767\u001b[0m \u001b[39mdef\u001b[39;00m \u001b[39m_set_axis\u001b[39m(\u001b[39mself\u001b[39m, axis: \u001b[39mint\u001b[39m, labels: Index) \u001b[39m-\u001b[39m\u001b[39m>\u001b[39m \u001b[39mNone\u001b[39;00m:\n\u001b[0;32m    768\u001b[0m     labels \u001b[39m=\u001b[39m ensure_index(labels)\n\u001b[1;32m--> 769\u001b[0m     \u001b[39mself\u001b[39;49m\u001b[39m.\u001b[39;49m_mgr\u001b[39m.\u001b[39;49mset_axis(axis, labels)\n\u001b[0;32m    770\u001b[0m     \u001b[39mself\u001b[39m\u001b[39m.\u001b[39m_clear_item_cache()\n",
      "File \u001b[1;32mc:\\Users\\jorda\\anaconda3\\envs\\aux\\lib\\site-packages\\pandas\\core\\internals\\managers.py:214\u001b[0m, in \u001b[0;36mBaseBlockManager.set_axis\u001b[1;34m(self, axis, new_labels)\u001b[0m\n\u001b[0;32m    212\u001b[0m \u001b[39mdef\u001b[39;00m \u001b[39mset_axis\u001b[39m(\u001b[39mself\u001b[39m, axis: \u001b[39mint\u001b[39m, new_labels: Index) \u001b[39m-\u001b[39m\u001b[39m>\u001b[39m \u001b[39mNone\u001b[39;00m:\n\u001b[0;32m    213\u001b[0m     \u001b[39m# Caller is responsible for ensuring we have an Index object.\u001b[39;00m\n\u001b[1;32m--> 214\u001b[0m     \u001b[39mself\u001b[39;49m\u001b[39m.\u001b[39;49m_validate_set_axis(axis, new_labels)\n\u001b[0;32m    215\u001b[0m     \u001b[39mself\u001b[39m\u001b[39m.\u001b[39maxes[axis] \u001b[39m=\u001b[39m new_labels\n",
      "File \u001b[1;32mc:\\Users\\jorda\\anaconda3\\envs\\aux\\lib\\site-packages\\pandas\\core\\internals\\base.py:69\u001b[0m, in \u001b[0;36mDataManager._validate_set_axis\u001b[1;34m(self, axis, new_labels)\u001b[0m\n\u001b[0;32m     66\u001b[0m     \u001b[39mpass\u001b[39;00m\n\u001b[0;32m     68\u001b[0m \u001b[39melif\u001b[39;00m new_len \u001b[39m!=\u001b[39m old_len:\n\u001b[1;32m---> 69\u001b[0m     \u001b[39mraise\u001b[39;00m \u001b[39mValueError\u001b[39;00m(\n\u001b[0;32m     70\u001b[0m         \u001b[39mf\u001b[39m\u001b[39m\"\u001b[39m\u001b[39mLength mismatch: Expected axis has \u001b[39m\u001b[39m{\u001b[39;00mold_len\u001b[39m}\u001b[39;00m\u001b[39m elements, new \u001b[39m\u001b[39m\"\u001b[39m\n\u001b[0;32m     71\u001b[0m         \u001b[39mf\u001b[39m\u001b[39m\"\u001b[39m\u001b[39mvalues have \u001b[39m\u001b[39m{\u001b[39;00mnew_len\u001b[39m}\u001b[39;00m\u001b[39m elements\u001b[39m\u001b[39m\"\u001b[39m\n\u001b[0;32m     72\u001b[0m     )\n",
      "\u001b[1;31mValueError\u001b[0m: Length mismatch: Expected axis has 5 elements, new values have 3 elements"
     ]
    }
   ],
   "source": [
    "country = Country.objects.order_by('?').first()\n",
    "print(country, country.alpha2)\n",
    "SubDivision.create_objs_from_country(country)\n",
    "country.subdivision_set.all()\n",
    "\n"
   ]
  },
  {
   "cell_type": "code",
   "execution_count": 7,
   "metadata": {},
   "outputs": [
    {
     "data": {
      "text/plain": [
       "'MA'"
      ]
     },
     "execution_count": 7,
     "metadata": {},
     "output_type": "execute_result"
    }
   ],
   "source": [
    "country.alpha2"
   ]
  },
  {
   "cell_type": "code",
   "execution_count": 28,
   "metadata": {},
   "outputs": [
    {
     "ename": "IndexError",
     "evalue": "index -1 is out of bounds for axis 0 with size 0",
     "output_type": "error",
     "traceback": [
      "\u001b[1;31m---------------------------------------------------------------------------\u001b[0m",
      "\u001b[1;31mIndexError\u001b[0m                                Traceback (most recent call last)",
      "\u001b[1;32mc:\\Users\\jorda\\Documents\\git_projects\\django-aux\\example\\z_adhoc.ipynb Cell 2\u001b[0m in \u001b[0;36m<cell line: 18>\u001b[1;34m()\u001b[0m\n\u001b[0;32m     <a href='vscode-notebook-cell:/c%3A/Users/jorda/Documents/git_projects/django-aux/example/z_adhoc.ipynb#X22sZmlsZQ%3D%3D?line=14'>15</a>\u001b[0m     kwargs \u001b[39m=\u001b[39m {\u001b[39m'\u001b[39m\u001b[39mstart\u001b[39m\u001b[39m'\u001b[39m:cperiod}\n\u001b[0;32m     <a href='vscode-notebook-cell:/c%3A/Users/jorda/Documents/git_projects/django-aux/example/z_adhoc.ipynb#X22sZmlsZQ%3D%3D?line=15'>16</a>\u001b[0m     i \u001b[39m=\u001b[39m \u001b[39m-\u001b[39m\u001b[39m1\u001b[39m\n\u001b[1;32m---> <a href='vscode-notebook-cell:/c%3A/Users/jorda/Documents/git_projects/django-aux/example/z_adhoc.ipynb#X22sZmlsZQ%3D%3D?line=17'>18</a>\u001b[0m pd\u001b[39m.\u001b[39;49mperiod_range(\u001b[39m*\u001b[39;49m\u001b[39m*\u001b[39;49mkwargs, periods\u001b[39m=\u001b[39;49m\u001b[39mabs\u001b[39;49m(n))[i]\n",
      "File \u001b[1;32mc:\\Users\\jorda\\anaconda3\\envs\\aux\\lib\\site-packages\\pandas\\core\\indexes\\base.py:5039\u001b[0m, in \u001b[0;36mIndex.__getitem__\u001b[1;34m(self, key)\u001b[0m\n\u001b[0;32m   5036\u001b[0m \u001b[39mif\u001b[39;00m is_integer(key) \u001b[39mor\u001b[39;00m is_float(key):\n\u001b[0;32m   5037\u001b[0m     \u001b[39m# GH#44051 exclude bool, which would return a 2d ndarray\u001b[39;00m\n\u001b[0;32m   5038\u001b[0m     key \u001b[39m=\u001b[39m com\u001b[39m.\u001b[39mcast_scalar_indexer(key, warn_float\u001b[39m=\u001b[39m\u001b[39mTrue\u001b[39;00m)\n\u001b[1;32m-> 5039\u001b[0m     \u001b[39mreturn\u001b[39;00m getitem(key)\n\u001b[0;32m   5041\u001b[0m \u001b[39mif\u001b[39;00m \u001b[39misinstance\u001b[39m(key, \u001b[39mslice\u001b[39m):\n\u001b[0;32m   5042\u001b[0m     \u001b[39m# This case is separated from the conditional above to avoid\u001b[39;00m\n\u001b[0;32m   5043\u001b[0m     \u001b[39m# pessimization com.is_bool_indexer and ndim checks.\u001b[39;00m\n\u001b[0;32m   5044\u001b[0m     result \u001b[39m=\u001b[39m getitem(key)\n",
      "File \u001b[1;32mc:\\Users\\jorda\\anaconda3\\envs\\aux\\lib\\site-packages\\pandas\\core\\arrays\\datetimelike.py:341\u001b[0m, in \u001b[0;36mDatetimeLikeArrayMixin.__getitem__\u001b[1;34m(self, key)\u001b[0m\n\u001b[0;32m    333\u001b[0m \u001b[39m\"\"\"\u001b[39;00m\n\u001b[0;32m    334\u001b[0m \u001b[39mThis getitem defers to the underlying array, which by-definition can\u001b[39;00m\n\u001b[0;32m    335\u001b[0m \u001b[39monly handle list-likes, slices, and integer scalars\u001b[39;00m\n\u001b[0;32m    336\u001b[0m \u001b[39m\"\"\"\u001b[39;00m\n\u001b[0;32m    337\u001b[0m \u001b[39m# Use cast as we know we will get back a DatetimeLikeArray or DTScalar,\u001b[39;00m\n\u001b[0;32m    338\u001b[0m \u001b[39m# but skip evaluating the Union at runtime for performance\u001b[39;00m\n\u001b[0;32m    339\u001b[0m \u001b[39m# (see https://github.com/pandas-dev/pandas/pull/44624)\u001b[39;00m\n\u001b[0;32m    340\u001b[0m result \u001b[39m=\u001b[39m cast(\n\u001b[1;32m--> 341\u001b[0m     \u001b[39m\"\u001b[39m\u001b[39mUnion[DatetimeLikeArrayT, DTScalarOrNaT]\u001b[39m\u001b[39m\"\u001b[39m, \u001b[39msuper\u001b[39;49m()\u001b[39m.\u001b[39;49m\u001b[39m__getitem__\u001b[39;49m(key)\n\u001b[0;32m    342\u001b[0m )\n\u001b[0;32m    343\u001b[0m \u001b[39mif\u001b[39;00m lib\u001b[39m.\u001b[39mis_scalar(result):\n\u001b[0;32m    344\u001b[0m     \u001b[39mreturn\u001b[39;00m result\n",
      "File \u001b[1;32mc:\\Users\\jorda\\anaconda3\\envs\\aux\\lib\\site-packages\\pandas\\core\\arrays\\_mixins.py:272\u001b[0m, in \u001b[0;36mNDArrayBackedExtensionArray.__getitem__\u001b[1;34m(self, key)\u001b[0m\n\u001b[0;32m    266\u001b[0m \u001b[39mdef\u001b[39;00m \u001b[39m__getitem__\u001b[39m(\n\u001b[0;32m    267\u001b[0m     \u001b[39mself\u001b[39m: NDArrayBackedExtensionArrayT,\n\u001b[0;32m    268\u001b[0m     key: PositionalIndexer2D,\n\u001b[0;32m    269\u001b[0m ) \u001b[39m-\u001b[39m\u001b[39m>\u001b[39m NDArrayBackedExtensionArrayT \u001b[39m|\u001b[39m Any:\n\u001b[0;32m    270\u001b[0m     \u001b[39mif\u001b[39;00m lib\u001b[39m.\u001b[39mis_integer(key):\n\u001b[0;32m    271\u001b[0m         \u001b[39m# fast-path\u001b[39;00m\n\u001b[1;32m--> 272\u001b[0m         result \u001b[39m=\u001b[39m \u001b[39mself\u001b[39;49m\u001b[39m.\u001b[39;49m_ndarray[key]\n\u001b[0;32m    273\u001b[0m         \u001b[39mif\u001b[39;00m \u001b[39mself\u001b[39m\u001b[39m.\u001b[39mndim \u001b[39m==\u001b[39m \u001b[39m1\u001b[39m:\n\u001b[0;32m    274\u001b[0m             \u001b[39mreturn\u001b[39;00m \u001b[39mself\u001b[39m\u001b[39m.\u001b[39m_box_func(result)\n",
      "\u001b[1;31mIndexError\u001b[0m: index -1 is out of bounds for axis 0 with size 0"
     ]
    }
   ],
   "source": [
    "tzinfo = timezone.now().tzinfo\n",
    "n = 0\n",
    "\n",
    "now = dt.datetime.now()\n",
    "if tzinfo:\n",
    "    now = now.astimezone(tzinfo)\n",
    "\n",
    "cperiod = pd.Period(now, freq='M')\n",
    "if n==0:\n",
    "    cperiod\n",
    "elif n < 0:\n",
    "    kwargs = {'end':cperiod}\n",
    "    i = 0\n",
    "elif n > 0:\n",
    "    kwargs = {'start':cperiod}\n",
    "    i = -1\n",
    "\n",
    "pd.period_range(**kwargs, periods=abs(n))[i]"
   ]
  },
  {
   "cell_type": "code",
   "execution_count": 4,
   "metadata": {},
   "outputs": [
    {
     "name": "stdout",
     "output_type": "stream",
     "text": [
      "2022 2022 present\n",
      "2022-11 2022-11 future\n",
      "2022 W45 2022-11-07/2022-11-13 future\n",
      "2022-11-13 2022-11-13 future\n"
     ]
    }
   ],
   "source": [
    "dtg = timezone.now() + dt.timedelta(53)\n",
    "for model in [Year, Month, Week, Day]:\n",
    "    obj,_ = model.get_or_create_from_date(dtg.date())\n",
    "    print(obj, obj.period, obj.get_rel_status())\n"
   ]
  },
  {
   "cell_type": "code",
   "execution_count": 47,
   "metadata": {},
   "outputs": [
    {
     "data": {
      "text/plain": [
       "datetime.timezone(datetime.timedelta(days=-1, seconds=72000), 'Eastern Daylight Time')"
      ]
     },
     "execution_count": 47,
     "metadata": {},
     "output_type": "execute_result"
    }
   ],
   "source": []
  },
  {
   "cell_type": "code",
   "execution_count": null,
   "metadata": {},
   "outputs": [],
   "source": [
    "week,c = Week.objects.get_or_create(year_num=2022, week_num=50)\n",
    "week.period"
   ]
  },
  {
   "cell_type": "code",
   "execution_count": null,
   "metadata": {},
   "outputs": [],
   "source": [
    "year_num=2022\n",
    "for year_num in range(2000,2020):\n",
    "    start = pd.to_datetime(dt.date(year_num,1,1)).to_period('W').start_time\n",
    "    end = pd.to_datetime(dt.date(year_num,12,31)).to_period('W').end_time\n",
    "    dates = pd.date_range(start, end, freq='W')\n",
    "    if start.week != 1:\n",
    "        dates = dates[1:]\n",
    "    if end.week < 52:\n",
    "         dates = dates[:-1]\n",
    "\n",
    "pd.Period(dates[0], freq='W')\n"
   ]
  },
  {
   "cell_type": "code",
   "execution_count": null,
   "metadata": {},
   "outputs": [],
   "source": [
    "pd.to_datetime(dt.date(2022,1,2)).to_period('W').week"
   ]
  },
  {
   "cell_type": "code",
   "execution_count": null,
   "metadata": {},
   "outputs": [],
   "source": [
    "pd.date_range(start=)"
   ]
  },
  {
   "cell_type": "code",
   "execution_count": null,
   "metadata": {},
   "outputs": [],
   "source": [
    "tuple(zip([calendar.month_name[i] for i in range(1,13)],[calendar.month_name[i] for i in range(1,13)]))\n",
    "tuple(zip([calendar.month_abbr[i] for i in range(1,13)],[calendar.month_abbr[i] for i in range(1,13)]))\n",
    "\n",
    "cal = calendar.Calendar()\n"
   ]
  },
  {
   "cell_type": "code",
   "execution_count": null,
   "metadata": {},
   "outputs": [],
   "source": [
    "person = Person.objects.get(id=3)\n",
    "\n",
    "read_frame(person.history.all())"
   ]
  },
  {
   "cell_type": "code",
   "execution_count": null,
   "metadata": {},
   "outputs": [],
   "source": [
    "len('october')"
   ]
  }
 ],
 "metadata": {
  "kernelspec": {
   "display_name": "aux",
   "language": "python",
   "name": "python3"
  },
  "language_info": {
   "codemirror_mode": {
    "name": "ipython",
    "version": 3
   },
   "file_extension": ".py",
   "mimetype": "text/x-python",
   "name": "python",
   "nbconvert_exporter": "python",
   "pygments_lexer": "ipython3",
   "version": "3.10.4"
  },
  "orig_nbformat": 4,
  "vscode": {
   "interpreter": {
    "hash": "727cab9f08696455e53732e1d592faabc7075afca404cf2bc8e3613917109092"
   }
  }
 },
 "nbformat": 4,
 "nbformat_minor": 2
}
